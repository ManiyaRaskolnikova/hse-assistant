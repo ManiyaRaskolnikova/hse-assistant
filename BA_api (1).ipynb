{
  "nbformat": 4,
  "nbformat_minor": 0,
  "metadata": {
    "colab": {
      "provenance": [],
      "collapsed_sections": [
        "s2f_LUlY0Wlm"
      ],
      "name": "BA_api.ipynb"
    },
    "kernelspec": {
      "name": "python3",
      "display_name": "Python 3"
    },
    "language_info": {
      "name": "python"
    }
  },
  "cells": [
    {
      "cell_type": "markdown",
      "source": [
        "# Разработка с HF API прототип ассистента"
      ],
      "metadata": {
        "id": "s2f_LUlY0Wlm"
      }
    },
    {
      "cell_type": "code",
      "execution_count": null,
      "metadata": {
        "colab": {
          "base_uri": "https://localhost:8080/"
        },
        "id": "PRRbljTfx4J4",
        "outputId": "4f9a0dba-35e6-41bc-b45d-63fa91b1dd11"
      },
      "outputs": [
        {
          "output_type": "stream",
          "name": "stdout",
          "text": [
            "Requirement already satisfied: huggingface_hub in /usr/local/lib/python3.11/dist-packages (0.28.1)\n",
            "Requirement already satisfied: filelock in /usr/local/lib/python3.11/dist-packages (from huggingface_hub) (3.17.0)\n",
            "Requirement already satisfied: fsspec>=2023.5.0 in /usr/local/lib/python3.11/dist-packages (from huggingface_hub) (2024.10.0)\n",
            "Requirement already satisfied: packaging>=20.9 in /usr/local/lib/python3.11/dist-packages (from huggingface_hub) (24.2)\n",
            "Requirement already satisfied: pyyaml>=5.1 in /usr/local/lib/python3.11/dist-packages (from huggingface_hub) (6.0.2)\n",
            "Requirement already satisfied: requests in /usr/local/lib/python3.11/dist-packages (from huggingface_hub) (2.32.3)\n",
            "Requirement already satisfied: tqdm>=4.42.1 in /usr/local/lib/python3.11/dist-packages (from huggingface_hub) (4.67.1)\n",
            "Requirement already satisfied: typing-extensions>=3.7.4.3 in /usr/local/lib/python3.11/dist-packages (from huggingface_hub) (4.12.2)\n",
            "Requirement already satisfied: charset-normalizer<4,>=2 in /usr/local/lib/python3.11/dist-packages (from requests->huggingface_hub) (3.4.1)\n",
            "Requirement already satisfied: idna<4,>=2.5 in /usr/local/lib/python3.11/dist-packages (from requests->huggingface_hub) (3.10)\n",
            "Requirement already satisfied: urllib3<3,>=1.21.1 in /usr/local/lib/python3.11/dist-packages (from requests->huggingface_hub) (2.3.0)\n",
            "Requirement already satisfied: certifi>=2017.4.17 in /usr/local/lib/python3.11/dist-packages (from requests->huggingface_hub) (2025.1.31)\n"
          ]
        }
      ],
      "source": [
        "#устновим библиотеку для HF API\n",
        "!pip install huggingface_hub"
      ]
    },
    {
      "cell_type": "code",
      "source": [
        "from huggingface_hub import InferenceClient\n",
        "\n",
        "HF_TOKEN = #укажите свой токен\n",
        "MODEL_NAME = \"deepset/roberta-base-squad2\"\n",
        "\n",
        "\n",
        "client = InferenceClient(model=MODEL_NAME, token=HF_TOKEN)"
      ],
      "metadata": {
        "id": "pBeljVRcyNQB"
      },
      "execution_count": null,
      "outputs": []
    },
    {
      "cell_type": "markdown",
      "source": [
        "Пока что единственный рабочий код, но ответы слишком короткие. С параметрамисложно, обычно модель ломается"
      ],
      "metadata": {
        "id": "X2VctrSukNvt"
      }
    },
    {
      "cell_type": "code",
      "source": [
        "from huggingface_hub import InferenceClient\n",
        "\n",
        "HF_TOKEN = #укажите свой токен\n",
        "MODEL_NAME = \"timpal0l/mdeberta-v3-base-squad2\"\n",
        "\n",
        "#выполняем аутентификацию, вводим свой API token и указываем модель\n",
        "client = InferenceClient(model=MODEL_NAME, token=HF_TOKEN)\n",
        "\n",
        "def answer_question(question, context):\n",
        "    try:\n",
        "        response = client.question_answering(question=question, context=context)\n",
        "\n",
        "        return response.get(\"answer\", \"Ответ не найден\")\n",
        "\n",
        "    except Exception as e:\n",
        "        return f\"Ошибка API: {str(e)}\"\n",
        "\n",
        "# Тестируем ассистента\n",
        "questions = [\n",
        "    \"Что такое универсальная грамматика?\",\n",
        "    \"Какие аргументы существуют в полбзу сущестоввания универсальной грамматики?\",\n",
        "    \"Насколько универсальная грамматика общепризнанна?\",\n",
        "    \"Как современная наука понимает универсальную грамматику?\"\n",
        "]\n",
        "context = \"Универсальная грамматика — термин, которым в ряде лингвистических теорий обозначается предполагаемый набор правил или принципов, присущих каждому человеческому языку. Подобные правила не определяют язык полностью: они допускают значительную вариантность, но ограничивают её некоторыми конечными рамками. В современной когнитивной науке универсальная грамматика понимается как встроенное на генетическом уровне знание о языке. Аргументами в пользу существования универсальной грамматики являются: наличие определённых языковых универсалий (таких как, к примеру, части речи, гласные и согласные звуки и т. п.), присутствующих во всех языках; данные исследований усвоения языка; доводы в пользу существования отдельного языкового модуля — независимой когнитивной системы в составе человеческого разума, предназначенной для обработки языка. В настоящее время ряд авторов подвергает сомнению существование универсальной грамматики.\"\n",
        "\n",
        "# Запускаем тестирование\n",
        "for question in questions:\n",
        "    print(f\"Вопрос: {question}\")\n",
        "    print(f\"Ответ: {answer_question(question, context)}\\n\")"
      ],
      "metadata": {
        "colab": {
          "base_uri": "https://localhost:8080/"
        },
        "id": "AtilgJcHjK-A",
        "outputId": "d22b8ba3-03c8-48c8-ed18-31149aa08139"
      },
      "execution_count": null,
      "outputs": [
        {
          "output_type": "stream",
          "name": "stdout",
          "text": [
            "Вопрос: Что такое универсальная грамматика?\n",
            "Ответ:  предполагаемый набор правил или принципов,\n",
            "\n",
            "Вопрос: Какие аргументы существуют в полбзу сущестоввания универсальной грамматики?\n",
            "Ответ:  наличие определённых языковых универсалий\n",
            "\n",
            "Вопрос: Насколько универсальная грамматика общепризнанна?\n",
            "Ответ:  В настоящее время ряд авторов подвергает сомнению\n",
            "\n",
            "Вопрос: Как современная наука понимает универсальную грамматику?\n",
            "Ответ:  встроенное на генетическом уровне знание о языке.\n",
            "\n"
          ]
        }
      ]
    },
    {
      "cell_type": "code",
      "source": [],
      "metadata": {
        "id": "ONeFpTRh6Tk7"
      },
      "execution_count": null,
      "outputs": []
    },
    {
      "cell_type": "markdown",
      "source": [
        "# Попробуем завернуть все в интерфейс с gradio"
      ],
      "metadata": {
        "id": "lERXbp9I3tfE"
      }
    },
    {
      "cell_type": "code",
      "source": [
        "!pip install gradio\n"
      ],
      "metadata": {
        "colab": {
          "base_uri": "https://localhost:8080/"
        },
        "id": "Mnc7GYTh3r3z",
        "outputId": "a2d45cb7-921c-47f1-e2f0-0e000aa4f2bb"
      },
      "execution_count": null,
      "outputs": [
        {
          "output_type": "stream",
          "name": "stdout",
          "text": [
            "Collecting gradio\n",
            "  Downloading gradio-5.20.0-py3-none-any.whl.metadata (16 kB)\n",
            "Collecting aiofiles<24.0,>=22.0 (from gradio)\n",
            "  Downloading aiofiles-23.2.1-py3-none-any.whl.metadata (9.7 kB)\n",
            "Requirement already satisfied: anyio<5.0,>=3.0 in /usr/local/lib/python3.11/dist-packages (from gradio) (3.7.1)\n",
            "Collecting fastapi<1.0,>=0.115.2 (from gradio)\n",
            "  Downloading fastapi-0.115.10-py3-none-any.whl.metadata (27 kB)\n",
            "Collecting ffmpy (from gradio)\n",
            "  Downloading ffmpy-0.5.0-py3-none-any.whl.metadata (3.0 kB)\n",
            "Collecting gradio-client==1.7.2 (from gradio)\n",
            "  Downloading gradio_client-1.7.2-py3-none-any.whl.metadata (7.1 kB)\n",
            "Collecting groovy~=0.1 (from gradio)\n",
            "  Downloading groovy-0.1.2-py3-none-any.whl.metadata (6.1 kB)\n",
            "Requirement already satisfied: httpx>=0.24.1 in /usr/local/lib/python3.11/dist-packages (from gradio) (0.28.1)\n",
            "Requirement already satisfied: huggingface-hub>=0.28.1 in /usr/local/lib/python3.11/dist-packages (from gradio) (0.28.1)\n",
            "Requirement already satisfied: jinja2<4.0 in /usr/local/lib/python3.11/dist-packages (from gradio) (3.1.5)\n",
            "Collecting markupsafe~=2.0 (from gradio)\n",
            "  Downloading MarkupSafe-2.1.5-cp311-cp311-manylinux_2_17_x86_64.manylinux2014_x86_64.whl.metadata (3.0 kB)\n",
            "Requirement already satisfied: numpy<3.0,>=1.0 in /usr/local/lib/python3.11/dist-packages (from gradio) (1.26.4)\n",
            "Requirement already satisfied: orjson~=3.0 in /usr/local/lib/python3.11/dist-packages (from gradio) (3.10.15)\n",
            "Requirement already satisfied: packaging in /usr/local/lib/python3.11/dist-packages (from gradio) (24.2)\n",
            "Requirement already satisfied: pandas<3.0,>=1.0 in /usr/local/lib/python3.11/dist-packages (from gradio) (2.2.2)\n",
            "Requirement already satisfied: pillow<12.0,>=8.0 in /usr/local/lib/python3.11/dist-packages (from gradio) (11.1.0)\n",
            "Requirement already satisfied: pydantic>=2.0 in /usr/local/lib/python3.11/dist-packages (from gradio) (2.10.6)\n",
            "Collecting pydub (from gradio)\n",
            "  Downloading pydub-0.25.1-py2.py3-none-any.whl.metadata (1.4 kB)\n",
            "Collecting python-multipart>=0.0.18 (from gradio)\n",
            "  Downloading python_multipart-0.0.20-py3-none-any.whl.metadata (1.8 kB)\n",
            "Requirement already satisfied: pyyaml<7.0,>=5.0 in /usr/local/lib/python3.11/dist-packages (from gradio) (6.0.2)\n",
            "Collecting ruff>=0.9.3 (from gradio)\n",
            "  Downloading ruff-0.9.9-py3-none-manylinux_2_17_x86_64.manylinux2014_x86_64.whl.metadata (25 kB)\n",
            "Collecting safehttpx<0.2.0,>=0.1.6 (from gradio)\n",
            "  Downloading safehttpx-0.1.6-py3-none-any.whl.metadata (4.2 kB)\n",
            "Collecting semantic-version~=2.0 (from gradio)\n",
            "  Downloading semantic_version-2.10.0-py2.py3-none-any.whl.metadata (9.7 kB)\n",
            "Collecting starlette<1.0,>=0.40.0 (from gradio)\n",
            "  Downloading starlette-0.46.0-py3-none-any.whl.metadata (6.2 kB)\n",
            "Collecting tomlkit<0.14.0,>=0.12.0 (from gradio)\n",
            "  Downloading tomlkit-0.13.2-py3-none-any.whl.metadata (2.7 kB)\n",
            "Requirement already satisfied: typer<1.0,>=0.12 in /usr/local/lib/python3.11/dist-packages (from gradio) (0.15.1)\n",
            "Requirement already satisfied: typing-extensions~=4.0 in /usr/local/lib/python3.11/dist-packages (from gradio) (4.12.2)\n",
            "Collecting uvicorn>=0.14.0 (from gradio)\n",
            "  Downloading uvicorn-0.34.0-py3-none-any.whl.metadata (6.5 kB)\n",
            "Requirement already satisfied: fsspec in /usr/local/lib/python3.11/dist-packages (from gradio-client==1.7.2->gradio) (2024.10.0)\n",
            "Requirement already satisfied: websockets<16.0,>=10.0 in /usr/local/lib/python3.11/dist-packages (from gradio-client==1.7.2->gradio) (14.2)\n",
            "Requirement already satisfied: idna>=2.8 in /usr/local/lib/python3.11/dist-packages (from anyio<5.0,>=3.0->gradio) (3.10)\n",
            "Requirement already satisfied: sniffio>=1.1 in /usr/local/lib/python3.11/dist-packages (from anyio<5.0,>=3.0->gradio) (1.3.1)\n",
            "Requirement already satisfied: certifi in /usr/local/lib/python3.11/dist-packages (from httpx>=0.24.1->gradio) (2025.1.31)\n",
            "Requirement already satisfied: httpcore==1.* in /usr/local/lib/python3.11/dist-packages (from httpx>=0.24.1->gradio) (1.0.7)\n",
            "Requirement already satisfied: h11<0.15,>=0.13 in /usr/local/lib/python3.11/dist-packages (from httpcore==1.*->httpx>=0.24.1->gradio) (0.14.0)\n",
            "Requirement already satisfied: filelock in /usr/local/lib/python3.11/dist-packages (from huggingface-hub>=0.28.1->gradio) (3.17.0)\n",
            "Requirement already satisfied: requests in /usr/local/lib/python3.11/dist-packages (from huggingface-hub>=0.28.1->gradio) (2.32.3)\n",
            "Requirement already satisfied: tqdm>=4.42.1 in /usr/local/lib/python3.11/dist-packages (from huggingface-hub>=0.28.1->gradio) (4.67.1)\n",
            "Requirement already satisfied: python-dateutil>=2.8.2 in /usr/local/lib/python3.11/dist-packages (from pandas<3.0,>=1.0->gradio) (2.8.2)\n",
            "Requirement already satisfied: pytz>=2020.1 in /usr/local/lib/python3.11/dist-packages (from pandas<3.0,>=1.0->gradio) (2025.1)\n",
            "Requirement already satisfied: tzdata>=2022.7 in /usr/local/lib/python3.11/dist-packages (from pandas<3.0,>=1.0->gradio) (2025.1)\n",
            "Requirement already satisfied: annotated-types>=0.6.0 in /usr/local/lib/python3.11/dist-packages (from pydantic>=2.0->gradio) (0.7.0)\n",
            "Requirement already satisfied: pydantic-core==2.27.2 in /usr/local/lib/python3.11/dist-packages (from pydantic>=2.0->gradio) (2.27.2)\n",
            "Requirement already satisfied: click>=8.0.0 in /usr/local/lib/python3.11/dist-packages (from typer<1.0,>=0.12->gradio) (8.1.8)\n",
            "Requirement already satisfied: shellingham>=1.3.0 in /usr/local/lib/python3.11/dist-packages (from typer<1.0,>=0.12->gradio) (1.5.4)\n",
            "Requirement already satisfied: rich>=10.11.0 in /usr/local/lib/python3.11/dist-packages (from typer<1.0,>=0.12->gradio) (13.9.4)\n",
            "Requirement already satisfied: six>=1.5 in /usr/local/lib/python3.11/dist-packages (from python-dateutil>=2.8.2->pandas<3.0,>=1.0->gradio) (1.17.0)\n",
            "Requirement already satisfied: markdown-it-py>=2.2.0 in /usr/local/lib/python3.11/dist-packages (from rich>=10.11.0->typer<1.0,>=0.12->gradio) (3.0.0)\n",
            "Requirement already satisfied: pygments<3.0.0,>=2.13.0 in /usr/local/lib/python3.11/dist-packages (from rich>=10.11.0->typer<1.0,>=0.12->gradio) (2.18.0)\n",
            "Requirement already satisfied: charset-normalizer<4,>=2 in /usr/local/lib/python3.11/dist-packages (from requests->huggingface-hub>=0.28.1->gradio) (3.4.1)\n",
            "Requirement already satisfied: urllib3<3,>=1.21.1 in /usr/local/lib/python3.11/dist-packages (from requests->huggingface-hub>=0.28.1->gradio) (2.3.0)\n",
            "Requirement already satisfied: mdurl~=0.1 in /usr/local/lib/python3.11/dist-packages (from markdown-it-py>=2.2.0->rich>=10.11.0->typer<1.0,>=0.12->gradio) (0.1.2)\n",
            "Downloading gradio-5.20.0-py3-none-any.whl (62.3 MB)\n",
            "\u001b[2K   \u001b[90m━━━━━━━━━━━━━━━━━━━━━━━━━━━━━━━━━━━━━━━━\u001b[0m \u001b[32m62.3/62.3 MB\u001b[0m \u001b[31m9.6 MB/s\u001b[0m eta \u001b[36m0:00:00\u001b[0m\n",
            "\u001b[?25hDownloading gradio_client-1.7.2-py3-none-any.whl (322 kB)\n",
            "\u001b[2K   \u001b[90m━━━━━━━━━━━━━━━━━━━━━━━━━━━━━━━━━━━━━━━━\u001b[0m \u001b[32m322.1/322.1 kB\u001b[0m \u001b[31m20.7 MB/s\u001b[0m eta \u001b[36m0:00:00\u001b[0m\n",
            "\u001b[?25hDownloading aiofiles-23.2.1-py3-none-any.whl (15 kB)\n",
            "Downloading fastapi-0.115.10-py3-none-any.whl (94 kB)\n",
            "\u001b[2K   \u001b[90m━━━━━━━━━━━━━━━━━━━━━━━━━━━━━━━━━━━━━━━━\u001b[0m \u001b[32m94.9/94.9 kB\u001b[0m \u001b[31m7.8 MB/s\u001b[0m eta \u001b[36m0:00:00\u001b[0m\n",
            "\u001b[?25hDownloading groovy-0.1.2-py3-none-any.whl (14 kB)\n",
            "Downloading MarkupSafe-2.1.5-cp311-cp311-manylinux_2_17_x86_64.manylinux2014_x86_64.whl (28 kB)\n",
            "Downloading python_multipart-0.0.20-py3-none-any.whl (24 kB)\n",
            "Downloading ruff-0.9.9-py3-none-manylinux_2_17_x86_64.manylinux2014_x86_64.whl (11.2 MB)\n",
            "\u001b[2K   \u001b[90m━━━━━━━━━━━━━━━━━━━━━━━━━━━━━━━━━━━━━━━━\u001b[0m \u001b[32m11.2/11.2 MB\u001b[0m \u001b[31m65.9 MB/s\u001b[0m eta \u001b[36m0:00:00\u001b[0m\n",
            "\u001b[?25hDownloading safehttpx-0.1.6-py3-none-any.whl (8.7 kB)\n",
            "Downloading semantic_version-2.10.0-py2.py3-none-any.whl (15 kB)\n",
            "Downloading starlette-0.46.0-py3-none-any.whl (71 kB)\n",
            "\u001b[2K   \u001b[90m━━━━━━━━━━━━━━━━━━━━━━━━━━━━━━━━━━━━━━━━\u001b[0m \u001b[32m72.0/72.0 kB\u001b[0m \u001b[31m6.7 MB/s\u001b[0m eta \u001b[36m0:00:00\u001b[0m\n",
            "\u001b[?25hDownloading tomlkit-0.13.2-py3-none-any.whl (37 kB)\n",
            "Downloading uvicorn-0.34.0-py3-none-any.whl (62 kB)\n",
            "\u001b[2K   \u001b[90m━━━━━━━━━━━━━━━━━━━━━━━━━━━━━━━━━━━━━━━━\u001b[0m \u001b[32m62.3/62.3 kB\u001b[0m \u001b[31m4.8 MB/s\u001b[0m eta \u001b[36m0:00:00\u001b[0m\n",
            "\u001b[?25hDownloading ffmpy-0.5.0-py3-none-any.whl (6.0 kB)\n",
            "Downloading pydub-0.25.1-py2.py3-none-any.whl (32 kB)\n",
            "Installing collected packages: pydub, uvicorn, tomlkit, semantic-version, ruff, python-multipart, markupsafe, groovy, ffmpy, aiofiles, starlette, safehttpx, gradio-client, fastapi, gradio\n",
            "  Attempting uninstall: markupsafe\n",
            "    Found existing installation: MarkupSafe 3.0.2\n",
            "    Uninstalling MarkupSafe-3.0.2:\n",
            "      Successfully uninstalled MarkupSafe-3.0.2\n",
            "Successfully installed aiofiles-23.2.1 fastapi-0.115.10 ffmpy-0.5.0 gradio-5.20.0 gradio-client-1.7.2 groovy-0.1.2 markupsafe-2.1.5 pydub-0.25.1 python-multipart-0.0.20 ruff-0.9.9 safehttpx-0.1.6 semantic-version-2.10.0 starlette-0.46.0 tomlkit-0.13.2 uvicorn-0.34.0\n"
          ]
        }
      ]
    },
    {
      "cell_type": "code",
      "source": [
        "import gradio as gr\n",
        "from huggingface_hub import InferenceClient\n",
        "\n",
        "HF_TOKEN = #укажите свой токен\n",
        "MODEL_NAME = \"timpal0l/mdeberta-v3-base-squad2\"\n",
        "\n",
        "client = InferenceClient(model=MODEL_NAME, token=HF_TOKEN)\n",
        "\n",
        "# Функция для ответа на вопрос\n",
        "def answer_question(question, context):\n",
        "    try:\n",
        "        response = client.question_answering(question=question, context=context)\n",
        "        return response.get(\"answer\", \"Ответ не найден\")\n",
        "    except Exception as e:\n",
        "        return f\"Ошибка API: {str(e)}\"\n",
        "\n",
        "# Создание интерфейса Gradio\n",
        "def create_interface():\n",
        "    # Интерфейс Gradio\n",
        "    with gr.Blocks() as demo:\n",
        "        gr.Markdown(\"# 🤖👩🏼‍💻 Виртуальный ассистент студента-филолога НИУ ВШЭ\")\n",
        "\n",
        "        question_input = gr.Textbox(label=\"Введите ваш вопрос\", placeholder=\"Задайте вопрос\")\n",
        "        context_input = gr.Textbox(label=\"Введите контекст\", placeholder=\"Введите контекст для поиска ответа\", lines=10)\n",
        "        answer_output = gr.Textbox(label=\"Ответ\", interactive=False)\n",
        "\n",
        "        btn = gr.Button(\"Получить ответ\")\n",
        "        btn.click(answer_question, inputs=[question_input, context_input], outputs=answer_output)\n",
        "\n",
        "    demo.launch()\n",
        "\n",
        "# Запуск интерфейса\n",
        "create_interface()\n"
      ],
      "metadata": {
        "colab": {
          "base_uri": "https://localhost:8080/",
          "height": 648
        },
        "id": "3DIxo3Wr3r_J",
        "outputId": "6bdfd897-1c82-4919-f30f-fa655db6c10a"
      },
      "execution_count": null,
      "outputs": [
        {
          "output_type": "stream",
          "name": "stdout",
          "text": [
            "Running Gradio in a Colab notebook requires sharing enabled. Automatically setting `share=True` (you can turn this off by setting `share=False` in `launch()` explicitly).\n",
            "\n",
            "Colab notebook detected. To show errors in colab notebook, set debug=True in launch()\n",
            "* Running on public URL: https://8d6050e60f38c7026d.gradio.live\n",
            "\n",
            "This share link expires in 72 hours. For free permanent hosting and GPU upgrades, run `gradio deploy` from the terminal in the working directory to deploy to Hugging Face Spaces (https://huggingface.co/spaces)\n"
          ]
        },
        {
          "output_type": "display_data",
          "data": {
            "text/plain": [
              "<IPython.core.display.HTML object>"
            ],
            "text/html": [
              "<div><iframe src=\"https://8d6050e60f38c7026d.gradio.live\" width=\"100%\" height=\"500\" allow=\"autoplay; camera; microphone; clipboard-read; clipboard-write;\" frameborder=\"0\" allowfullscreen></iframe></div>"
            ]
          },
          "metadata": {}
        }
      ]
    },
    {
      "cell_type": "markdown",
      "source": [
        "Бот формата \"вопрос–ответ\", используемая модель – timpal0l/mdeberta-v3-base-squad2\n",
        "\n",
        "**Как работает:** ищет соответсвия слов из вопроса в тексте, находит в тексте ответ и выводит его.\n",
        "\n",
        "**Минусы:**\n",
        "\n",
        "– качество ответа сильно зависит от формулировки вопроса\n",
        "\n",
        "– ответы модели короткие и не всегда достаточно информативные"
      ],
      "metadata": {
        "id": "iaT4n12hFO1s"
      }
    },
    {
      "cell_type": "markdown",
      "source": [
        "# API генерация текста"
      ],
      "metadata": {
        "id": "fnKJdnZtJxud"
      }
    },
    {
      "cell_type": "code",
      "source": [
        "from fastapi import FastAPI\n",
        "from pydantic import BaseModel\n",
        "import unittest\n",
        "from fastapi.testclient import TestClient\n",
        "from huggingface_hub import InferenceClient\n",
        "\n",
        "MODEL_NAME = \"mistralai/Mistral-Nemo-Instruct-2407\"\n",
        "TOKEN = #укажите свой токен\n",
        "\n",
        "client = InferenceClient(MODEL_NAME, token=TOKEN)\n",
        "\n",
        "app = FastAPI()\n",
        "\n",
        "# Определение схемы запроса\n",
        "class RequestBody(BaseModel):\n",
        "    system_role: str\n",
        "    user_prompt: str\n",
        "\n",
        "# Эндпоинт для генерации ответа\n",
        "@app.post(\"/generate\")\n",
        "def generate_response(request: RequestBody):\n",
        "    response = client.chat.completions.create(\n",
        "        messages=[\n",
        "            {\"role\": \"system\", \"content\": request.system_role},\n",
        "            {\"role\": \"user\", \"content\": request.user_prompt},\n",
        "        ],\n",
        "        stream=False,\n",
        "        max_tokens=1000,\n",
        "        temperature=0.7,\n",
        "        top_p=0.5\n",
        "    ).choices[0].get('message', {}).get('content', \"Ошибка генерации ответа\")\n",
        "\n",
        "    return {\"response\": response}\n",
        "\n",
        "# Тесты\n",
        "class APITestCase(unittest.TestCase):\n",
        "    def setUp(self):\n",
        "        self.client = TestClient(app)\n",
        "\n",
        "    def test_generate_response(self):\n",
        "        payload = {\n",
        "            \"system_role\": \"Ты ассистент студента в университете. Объясняй концепты. Составляй тесты для самопроверки.\",\n",
        "            \"user_prompt\": \"Что такое интертекстуальность в литературоведении??\"\n",
        "        }\n",
        "        response = self.client.post(\"/generate\", json=payload)\n",
        "        self.assertEqual(response.status_code, 200)\n",
        "        self.assertIn(\"response\", response.json())\n",
        "        print(\"Пример ответа модели:\", response.json()[\"response\"])\n",
        "\n",
        "if __name__ == \"__main__\":\n",
        "    unittest.main(argv=['first-arg-is-ignored'], exit=False)\n"
      ],
      "metadata": {
        "colab": {
          "base_uri": "https://localhost:8080/"
        },
        "id": "c5DJ1GeDON9U",
        "outputId": "b1334dbc-5ad8-438d-ceca-b3cc65fad0fd"
      },
      "execution_count": null,
      "outputs": [
        {
          "output_type": "stream",
          "name": "stderr",
          "text": [
            ".\n",
            "----------------------------------------------------------------------\n",
            "Ran 1 test in 12.473s\n",
            "\n",
            "OK\n"
          ]
        },
        {
          "output_type": "stream",
          "name": "stdout",
          "text": [
            "Пример ответа модели: Интертекстуальность в литературоведении — это концепция, которая описывает связь между различными текстами, их взаимовлияние и взаимоотношение. Эта концепция подчеркивает, что любой текст существует в контексте других текстов и культурных артефактов, и что смысл текста часто зависит от его отношений с другими текстами.\n",
            "\n",
            "Интертекстуальность может проявляться в различных формах, таких как цитаты, отсылки, пародии, пересказы или переосмысления других текстов. Например, роман \"Улисс\" Джеймса Джойса известен своей интертекстуальностью, так как он содержит множество отсылок к другим литературным произведениям, мифам, историческим событиям и культурным артефактам.\n",
            "\n",
            "Интертекстуальность также может использоваться для изучения влияния, которое один текст может оказать на другой, или для понимания, как тексты могут создавать общий смысл или диалог друг с другом.\n",
            "\n",
            "Теперь давайте проверим ваше понимание интертекстуальности с помощью небольшого теста:\n",
            "\n",
            "1. Что такое интертекстуальность в литературоведении?\n",
            "а) это когда автор пишет текст, не учитывая другие тексты и культуры\n",
            "б) это когда автор создает текст, не имея никакого опыта или знаний\n",
            "в) это когда текст существует в контексте других текстов и культурных артефактов, и его смысл зависит от его отношений с другими текстами\n",
            "г) это когда автор пишет текст, не задумываясь о его значении\n",
            "2. Как интертекстуальность может проявляться в тексте?\n",
            "а) только в виде прямых цитат из других текстов\n",
            "б) только в виде пародий на другие тексты\n",
            "в) в виде отсылок, цитат, пересказов или переосмысления других текстов\n",
            "г) только в виде влияния одного текста на другой\n",
            "3. Какое из следующих произведений известно своей интертекстуальностью?\n",
            "а) \"Одиссея\" Гомера\n",
            "б) \"Война и мир\" Льва Толстого\n",
            "в) \"Улисс\" Джеймса Джойса\n",
            "г) \"1984\" Джорджа Оруэлла\n",
            "\n",
            "Ответы: 1(в), 2(в), 3(в)\n"
          ]
        }
      ]
    },
    {
      "cell_type": "markdown",
      "source": [
        "# Добавим интерфейс gradio"
      ],
      "metadata": {
        "id": "eJPVRMcuRrcN"
      }
    },
    {
      "cell_type": "code",
      "source": [
        "from fastapi import FastAPI\n",
        "from pydantic import BaseModel\n",
        "import unittest\n",
        "from fastapi.testclient import TestClient\n",
        "from huggingface_hub import InferenceClient\n",
        "import gradio as gr\n",
        "\n",
        "MODEL_NAME = \"mistralai/Mixtral-8x7B-Instruct-v0.1\"\n",
        "TOKEN = #укажите свой токен\n",
        "\n",
        "client = InferenceClient(MODEL_NAME, token=TOKEN)\n",
        "\n",
        "app = FastAPI()\n",
        "\n",
        "# Определение схемы запроса\n",
        "class RequestBody(BaseModel):\n",
        "    system_role: str\n",
        "    user_prompt: str\n",
        "\n",
        "# Эндпоинт для генерации ответа\n",
        "@app.post(\"/generate\")\n",
        "def generate_response(request: RequestBody):\n",
        "    response = client.chat.completions.create(\n",
        "        messages=[\n",
        "            {\"role\": \"system\", \"content\": request.system_role},\n",
        "            {\"role\": \"user\", \"content\": request.user_prompt},\n",
        "        ],\n",
        "        stream=False,\n",
        "        max_tokens=1000,\n",
        "        temperature=0.7,\n",
        "        top_p=0.5\n",
        "    ).choices[0].get('message', {}).get('content', \"Ошибка генерации ответа\")\n",
        "\n",
        "    return {\"response\": response}\n",
        "\n",
        "# Функция для Gradio\n",
        "def chat_with_model(system_role, user_prompt):\n",
        "    response = client.chat.completions.create(\n",
        "        messages=[\n",
        "            {\"role\": \"system\", \"content\": system_role},\n",
        "            {\"role\": \"user\", \"content\": user_prompt},\n",
        "        ],\n",
        "        stream=False,\n",
        "        max_tokens=1000,\n",
        "        temperature=0.7,\n",
        "        top_p=0.5\n",
        "    ).choices[0].get('message', {}).get('content', \"Ошибка генерации ответа\")\n",
        "    return response\n",
        "\n",
        "# Интерфейс Gradio\n",
        "gui = gr.Interface(\n",
        "    fn=chat_with_model,\n",
        "    inputs=[gr.Textbox(label=\"Системная роль\"), gr.Textbox(label=\"Ваш вопрос\")],\n",
        "    outputs=gr.Textbox(label=\"Ответ модели\"),\n",
        "    title=\"🤖👩🏼‍💻 Виртуальный ассистент студента-филолога НИУ ВШЭ\",\n",
        "    description=\"Введите системную роль и ваш вопрос, чтобы получить ответ от модели.\"\n",
        ")\n",
        "\n",
        "gui.launch()\n"
      ],
      "metadata": {
        "colab": {
          "base_uri": "https://localhost:8080/",
          "height": 648
        },
        "id": "tv-BhzCoRv41",
        "outputId": "f9ed8a78-c696-4f3c-caf9-a9b3c730a3d6"
      },
      "execution_count": null,
      "outputs": [
        {
          "output_type": "stream",
          "name": "stdout",
          "text": [
            "Running Gradio in a Colab notebook requires sharing enabled. Automatically setting `share=True` (you can turn this off by setting `share=False` in `launch()` explicitly).\n",
            "\n",
            "Colab notebook detected. To show errors in colab notebook, set debug=True in launch()\n",
            "* Running on public URL: https://156969ac8616a3411c.gradio.live\n",
            "\n",
            "This share link expires in 72 hours. For free permanent hosting and GPU upgrades, run `gradio deploy` from the terminal in the working directory to deploy to Hugging Face Spaces (https://huggingface.co/spaces)\n"
          ]
        },
        {
          "output_type": "display_data",
          "data": {
            "text/plain": [
              "<IPython.core.display.HTML object>"
            ],
            "text/html": [
              "<div><iframe src=\"https://156969ac8616a3411c.gradio.live\" width=\"100%\" height=\"500\" allow=\"autoplay; camera; microphone; clipboard-read; clipboard-write;\" frameborder=\"0\" allowfullscreen></iframe></div>"
            ]
          },
          "metadata": {}
        },
        {
          "output_type": "execute_result",
          "data": {
            "text/plain": []
          },
          "metadata": {},
          "execution_count": 9
        }
      ]
    },
    {
      "cell_type": "markdown",
      "source": [
        "Задача – генерация текста, используемая модель – mistralai/Mixtral-8x7B-Instruct-v0.1\n",
        "\n",
        "**Плюсы:**\n",
        "\n",
        "– Более гибкая в настройке по сравнению с предыдущим вариантом (можно настроить длинну ответа, температуру)\n",
        "\n",
        "– большой функционал задач (может отвечать на вопросы, составлять тесты для самопроверки, задания на отработку знаний, рисовать деревья)\n",
        "\n",
        "**Минусы:**\n",
        "\n",
        "– Иногда внезапно переключается на английский\n",
        "\n",
        "– Если пользовательский промт по языковому курсу, очень сложно убедить модель писать комментарии на русском, а не на языке предмета"
      ],
      "metadata": {
        "id": "O4TM3Uv8GlBO"
      }
    },
    {
      "cell_type": "markdown",
      "source": [],
      "metadata": {
        "id": "asKIBDQ7GiHF"
      }
    }
  ]
}